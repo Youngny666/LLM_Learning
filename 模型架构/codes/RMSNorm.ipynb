{
 "cells": [
  {
   "cell_type": "code",
   "execution_count": 5,
   "id": "2d7aab55",
   "metadata": {},
   "outputs": [
    {
     "name": "stdout",
     "output_type": "stream",
     "text": [
      "tensor([[0.5853, 0.7699, 0.8091, 0.0658, 0.1708, 0.4693, 0.7407, 0.7925],\n",
      "        [0.3276, 0.5998, 0.0996, 0.6390, 0.9192, 0.4677, 0.3422, 0.4757],\n",
      "        [0.9624, 0.5708, 0.6921, 0.0715, 0.7837, 0.4021, 0.3529, 0.2157],\n",
      "        [0.4720, 0.0607, 0.3729, 0.3018, 0.2765, 0.0527, 0.1086, 0.9097]])\n",
      "tensor([[0.9526, 1.2530, 1.3167, 0.1071, 0.2780, 0.7637, 1.2054, 1.2898],\n",
      "        [0.6120, 1.1204, 0.1861, 1.1938, 1.7172, 0.8736, 0.6392, 0.8887],\n",
      "        [1.6619, 0.9856, 1.1950, 0.1235, 1.3532, 0.6944, 0.6093, 0.3725],\n",
      "        [1.1383, 0.1464, 0.8994, 0.7279, 0.6670, 0.1272, 0.2619, 2.1942]],\n",
      "       grad_fn=<MulBackward0>)\n"
     ]
    }
   ],
   "source": [
    "import torch\n",
    "import torch.nn as nn\n",
    "\n",
    "class LlamaRMSNorm(nn.Module):\n",
    "    def __init__(self, hidden_size, eps=1e-6):\n",
    "        super().__init__()\n",
    "        self.weight = nn.Parameter(torch.ones(hidden_size))\n",
    "        self.variance_epsilon = eps\n",
    "\n",
    "    def forward(self, hidden_states):\n",
    "        input_dtype = hidden_states.dtype\n",
    "        hidden_states = hidden_states.to(torch.float32)\n",
    "        # 计算隐含状态的均方根\n",
    "        variance = hidden_states.pow(2).mean(-1, keepdim=True)\n",
    "        # 将隐含状态除以其均方根后重新缩放\n",
    "        hidden_states = hidden_states * torch.rsqrt(variance + self.variance_epsilon)\n",
    "        return self.weight * hidden_states.to(input_dtype)\n",
    "\n",
    "rms_norm = LlamaRMSNorm(8)\n",
    "x = torch.rand((4, 8))\n",
    "print(x)\n",
    "print(rms_norm(x))"
   ]
  }
 ],
 "metadata": {
  "kernelspec": {
   "display_name": "comfyui",
   "language": "python",
   "name": "python3"
  },
  "language_info": {
   "codemirror_mode": {
    "name": "ipython",
    "version": 3
   },
   "file_extension": ".py",
   "mimetype": "text/x-python",
   "name": "python",
   "nbconvert_exporter": "python",
   "pygments_lexer": "ipython3",
   "version": "3.12.11"
  }
 },
 "nbformat": 4,
 "nbformat_minor": 5
}
